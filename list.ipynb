{
 "cells": [
  {
   "cell_type": "code",
   "execution_count": 5,
   "id": "b9acfa23",
   "metadata": {},
   "outputs": [
    {
     "name": "stdout",
     "output_type": "stream",
     "text": [
      "Enter the list of tuples:\n",
      "2 5\n",
      "1 2\n",
      "4 4 \n",
      "2 3\n",
      "2 1\n",
      "\n",
      "[('2', '5'), ('1', '2'), ('4', '4'), ('2', '3'), ('2', '1')]\n",
      "[('2', '1'), ('1', '2'), ('2', '3'), ('4', '4'), ('2', '5')]\n"
     ]
    }
   ],
   "source": [
    "final_list = [] \n",
    "line = input(\"Enter the list of tuples:\\n\")\n",
    "while(line != ''): \n",
    "    final_list.append(tuple(line.split()))\n",
    "    line = input() \n",
    "    i \n",
    "    \n",
    " \n",
    "print(final_list) \n",
    "for i in range(0, len(final_list)):\n",
    "    for j in range(i + 1, len(final_list)):\n",
    "        if final_list[i][-1] > final_list[j][-1]:\n",
    "            final_list[i], final_list[j] = final_list[j], final_list[i]\n",
    "print(final_list)"
   ]
  },
  {
   "cell_type": "code",
   "execution_count": null,
   "id": "e3e74d97",
   "metadata": {},
   "outputs": [],
   "source": []
  },
  {
   "cell_type": "code",
   "execution_count": null,
   "id": "53c9c297",
   "metadata": {},
   "outputs": [],
   "source": []
  }
 ],
 "metadata": {
  "kernelspec": {
   "display_name": "Python 3 (ipykernel)",
   "language": "python",
   "name": "python3"
  },
  "language_info": {
   "codemirror_mode": {
    "name": "ipython",
    "version": 3
   },
   "file_extension": ".py",
   "mimetype": "text/x-python",
   "name": "python",
   "nbconvert_exporter": "python",
   "pygments_lexer": "ipython3",
   "version": "3.9.12"
  }
 },
 "nbformat": 4,
 "nbformat_minor": 5
}
